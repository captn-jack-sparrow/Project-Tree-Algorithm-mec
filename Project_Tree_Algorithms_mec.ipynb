{
 "cells": [
  {
   "cell_type": "markdown",
   "metadata": {},
   "source": [
    "# Mini Project: Tree-Based Algorithms"
   ]
  },
  {
   "cell_type": "markdown",
   "metadata": {},
   "source": [
    "## The \"German Credit\" Dataset"
   ]
  },
  {
   "cell_type": "markdown",
   "metadata": {},
   "source": [
    "### Dataset Details"
   ]
  },
  {
   "cell_type": "markdown",
   "metadata": {},
   "source": [
    "This dataset has two classes (these would be considered labels in Machine Learning terms) to describe the worthiness of a personal loan: \"Good\" or \"Bad\". There are predictors related to attributes, such as: checking account status, duration, credit history, purpose of the loan, amount of the loan, savings accounts or bonds, employment duration, installment rate in percentage of disposable income, personal information, other debtors/guarantors, residence duration, property, age, other installment plans, housing, number of existing credits, job information, number of people being liable to provide maintenance for, telephone, and foreign worker status.\n",
    "\n",
    "Many of these predictors are discrete and have been expanded into several 0/1 indicator variables (a.k.a. they have been one-hot-encoded).\n",
    "\n",
    "This dataset has been kindly provided by Professor Dr. Hans Hofmann of the University of Hamburg, and can also be found on the UCI Machine Learning Repository."
   ]
  },
  {
   "cell_type": "markdown",
   "metadata": {},
   "source": [
    "\n",
    "\n",
    "\n"
   ]
  },
  {
   "cell_type": "markdown",
   "metadata": {},
   "source": [
    "## Decision Trees"
   ]
  },
  {
   "cell_type": "markdown",
   "metadata": {},
   "source": [
    " As we have learned in the previous lectures, Decision Trees as a family of algorithms (irrespective to the particular implementation) are powerful algorithms that can produce models with a predictive accuracy higher than that produced by linear models, such as Linear or Logistic Regression. Primarily, this is due to the fact the DT's can model nonlinear relationships, and also have a number of tuning paramters, that allow for the practicioner to achieve the best possible model. An added bonus is the ability to visualize the trained Decision Tree model, which allows for some insight into how the model has produced the predictions that it has. One caveat here, to keep in mind, is that sometimes, due to the size of the dataset (both in the sense of the number of records, as well as the number of features), the visualization might prove to be very large and complex, increasing the difficulty of interpretation."
   ]
  },
  {
   "cell_type": "markdown",
   "metadata": {},
   "source": [
    "To give you a very good example of how Decision Trees can be visualized and interpreted, we would strongly recommend that, before continuing on with solving the problems in this Mini Project, you take the time to read this fanstastic, detailed and informative blog post: http://explained.ai/decision-tree-viz/index.html"
   ]
  },
  {
   "cell_type": "markdown",
   "metadata": {},
   "source": [
    "## Building Your First Decision Tree Model"
   ]
  },
  {
   "cell_type": "markdown",
   "metadata": {},
   "source": [
    "So, now it's time to jump straight into the heart of the matter. Your first task, is to build a Decision Tree model, using the aforementioned \"German Credit\" dataset, which contains 1,000 records, and 62 columns (one of them presents the labels, and the other 61 present the potential features for the model.)"
   ]
  },
  {
   "cell_type": "markdown",
   "metadata": {},
   "source": [
    "For this task, you will be using the scikit-learn library, which comes already pre-installed with the Anaconda Python distribution. In case you're not using that, you can easily install it using pip."
   ]
  },
  {
   "cell_type": "markdown",
   "metadata": {},
   "source": [
    "Before embarking on creating your first model, we would strongly encourage you to read the short tutorial for Decision Trees in scikit-learn (http://scikit-learn.org/stable/modules/tree.html), and then dive a bit deeper into the documentation of the algorithm itself (http://scikit-learn.org/stable/modules/generated/sklearn.tree.DecisionTreeClassifier.html). "
   ]
  },
  {
   "cell_type": "markdown",
   "metadata": {},
   "source": [
    "Also, since you want to be able to present the results of your model, we suggest you take a look at the tutorial for accuracy metrics for classification models (http://scikit-learn.org/stable/modules/model_evaluation.html#classification-report) as well as the more detailed documentation (http://scikit-learn.org/stable/modules/generated/sklearn.metrics.classification_report.html).\n",
    "\n",
    "Finally, an *amazing* resource that explains the various classification model accuracy metrics, as well as the relationships between them, can be found on Wikipedia: https://en.wikipedia.org/wiki/Confusion_matrix"
   ]
  },
  {
   "cell_type": "markdown",
   "metadata": {},
   "source": [
    "(Note: as you've already learned in the Logistic Regression mini project, a standard practice in Machine Learning for achieving the best possible result when training a model is to use hyperparameter tuning, through Grid Search and k-fold Cross Validation. We strongly encourage you to use it here as well, not just because it's standard practice, but also becuase it's not going to be computationally to intensive, due to the size of the dataset that you're working with. Our suggestion here is that you split the data into 70% training, and 30% testing. Then, do the hyperparameter tuning and Cross Validation on the training set, and afterwards to a final test on the testing set.)"
   ]
  },
  {
   "cell_type": "markdown",
   "metadata": {},
   "source": [
    "### Now we pass the torch onto you! You can start building your first Decision Tree model! :)"
   ]
  },
  {
   "cell_type": "code",
   "execution_count": 1,
   "metadata": {},
   "outputs": [],
   "source": [
    "import pandas as pd\n",
    "from sklearn.tree import DecisionTreeClassifier\n",
    "from sklearn.metrics import classification_report\n",
    "from sklearn.model_selection import train_test_split\n",
    "from sklearn.model_selection import GridSearchCV, KFold"
   ]
  },
  {
   "cell_type": "code",
   "execution_count": null,
   "metadata": {},
   "outputs": [],
   "source": [
    "# Your code here! :)"
   ]
  },
  {
   "cell_type": "markdown",
   "metadata": {},
   "source": [
    "### After you've built the best model you can, now it's time to visualize it!"
   ]
  },
  {
   "cell_type": "markdown",
   "metadata": {},
   "source": [
    "Rememeber that amazing blog post from a few paragraphs ago, that demonstrated how to visualize and interpret the results of your Decision Tree model. We've seen that this can perform very well, but let's see how it does on the \"German Credit\" dataset that we're working on, due to it being a bit larger than the one used by the blog authors."
   ]
  },
  {
   "cell_type": "markdown",
   "metadata": {},
   "source": [
    "First, we're going to need to install their package. If you're using Anaconda, this can be done easily by running:"
   ]
  },
  {
   "cell_type": "code",
   "execution_count": null,
   "metadata": {},
   "outputs": [],
   "source": [
    "! pip install dtreeviz"
   ]
  },
  {
   "cell_type": "markdown",
   "metadata": {},
   "source": [
    "If for any reason this way of installing doesn't work for you straight out of the box, please refer to the more detailed documentation here: https://github.com/parrt/dtreeviz"
   ]
  },
  {
   "cell_type": "markdown",
   "metadata": {},
   "source": [
    "Now you're ready to visualize your Decision Tree model! Please feel free to use the blog post for guidance and inspiration!"
   ]
  },
  {
   "cell_type": "code",
   "execution_count": 2,
   "metadata": {},
   "outputs": [],
   "source": [
    "df = pd.read_csv(\"C:/Users/Obama/mec-mini-projects/mec-13.5.1-tree-based-algorithms-mini-project/GermanCredit.csv/GermanCredit.csv\")"
   ]
  },
  {
   "cell_type": "code",
   "execution_count": 3,
   "metadata": {},
   "outputs": [
    {
     "data": {
      "text/html": [
       "<div>\n",
       "<style scoped>\n",
       "    .dataframe tbody tr th:only-of-type {\n",
       "        vertical-align: middle;\n",
       "    }\n",
       "\n",
       "    .dataframe tbody tr th {\n",
       "        vertical-align: top;\n",
       "    }\n",
       "\n",
       "    .dataframe thead th {\n",
       "        text-align: right;\n",
       "    }\n",
       "</style>\n",
       "<table border=\"1\" class=\"dataframe\">\n",
       "  <thead>\n",
       "    <tr style=\"text-align: right;\">\n",
       "      <th></th>\n",
       "      <th>Duration</th>\n",
       "      <th>Amount</th>\n",
       "      <th>InstallmentRatePercentage</th>\n",
       "      <th>ResidenceDuration</th>\n",
       "      <th>Age</th>\n",
       "      <th>NumberExistingCredits</th>\n",
       "      <th>NumberPeopleMaintenance</th>\n",
       "      <th>Telephone</th>\n",
       "      <th>ForeignWorker</th>\n",
       "      <th>Class</th>\n",
       "      <th>CheckingAccountStatus.lt.0</th>\n",
       "      <th>CheckingAccountStatus.0.to.200</th>\n",
       "      <th>CheckingAccountStatus.gt.200</th>\n",
       "      <th>CheckingAccountStatus.none</th>\n",
       "      <th>CreditHistory.NoCredit.AllPaid</th>\n",
       "      <th>CreditHistory.ThisBank.AllPaid</th>\n",
       "      <th>CreditHistory.PaidDuly</th>\n",
       "      <th>CreditHistory.Delay</th>\n",
       "      <th>CreditHistory.Critical</th>\n",
       "      <th>Purpose.NewCar</th>\n",
       "      <th>Purpose.UsedCar</th>\n",
       "      <th>Purpose.Furniture.Equipment</th>\n",
       "      <th>Purpose.Radio.Television</th>\n",
       "      <th>Purpose.DomesticAppliance</th>\n",
       "      <th>Purpose.Repairs</th>\n",
       "      <th>Purpose.Education</th>\n",
       "      <th>Purpose.Vacation</th>\n",
       "      <th>Purpose.Retraining</th>\n",
       "      <th>Purpose.Business</th>\n",
       "      <th>Purpose.Other</th>\n",
       "      <th>SavingsAccountBonds.lt.100</th>\n",
       "      <th>SavingsAccountBonds.100.to.500</th>\n",
       "      <th>SavingsAccountBonds.500.to.1000</th>\n",
       "      <th>SavingsAccountBonds.gt.1000</th>\n",
       "      <th>SavingsAccountBonds.Unknown</th>\n",
       "      <th>EmploymentDuration.lt.1</th>\n",
       "      <th>EmploymentDuration.1.to.4</th>\n",
       "      <th>EmploymentDuration.4.to.7</th>\n",
       "      <th>EmploymentDuration.gt.7</th>\n",
       "      <th>EmploymentDuration.Unemployed</th>\n",
       "      <th>Personal.Male.Divorced.Seperated</th>\n",
       "      <th>Personal.Female.NotSingle</th>\n",
       "      <th>Personal.Male.Single</th>\n",
       "      <th>Personal.Male.Married.Widowed</th>\n",
       "      <th>Personal.Female.Single</th>\n",
       "      <th>OtherDebtorsGuarantors.None</th>\n",
       "      <th>OtherDebtorsGuarantors.CoApplicant</th>\n",
       "      <th>OtherDebtorsGuarantors.Guarantor</th>\n",
       "      <th>Property.RealEstate</th>\n",
       "      <th>Property.Insurance</th>\n",
       "      <th>Property.CarOther</th>\n",
       "      <th>Property.Unknown</th>\n",
       "      <th>OtherInstallmentPlans.Bank</th>\n",
       "      <th>OtherInstallmentPlans.Stores</th>\n",
       "      <th>OtherInstallmentPlans.None</th>\n",
       "      <th>Housing.Rent</th>\n",
       "      <th>Housing.Own</th>\n",
       "      <th>Housing.ForFree</th>\n",
       "      <th>Job.UnemployedUnskilled</th>\n",
       "      <th>Job.UnskilledResident</th>\n",
       "      <th>Job.SkilledEmployee</th>\n",
       "      <th>Job.Management.SelfEmp.HighlyQualified</th>\n",
       "    </tr>\n",
       "  </thead>\n",
       "  <tbody>\n",
       "    <tr>\n",
       "      <th>0</th>\n",
       "      <td>6</td>\n",
       "      <td>1169</td>\n",
       "      <td>4</td>\n",
       "      <td>4</td>\n",
       "      <td>67</td>\n",
       "      <td>2</td>\n",
       "      <td>1</td>\n",
       "      <td>0</td>\n",
       "      <td>1</td>\n",
       "      <td>Good</td>\n",
       "      <td>1</td>\n",
       "      <td>0</td>\n",
       "      <td>0</td>\n",
       "      <td>0</td>\n",
       "      <td>0</td>\n",
       "      <td>0</td>\n",
       "      <td>0</td>\n",
       "      <td>0</td>\n",
       "      <td>1</td>\n",
       "      <td>0</td>\n",
       "      <td>0</td>\n",
       "      <td>0</td>\n",
       "      <td>1</td>\n",
       "      <td>0</td>\n",
       "      <td>0</td>\n",
       "      <td>0</td>\n",
       "      <td>0</td>\n",
       "      <td>0</td>\n",
       "      <td>0</td>\n",
       "      <td>0</td>\n",
       "      <td>0</td>\n",
       "      <td>0</td>\n",
       "      <td>0</td>\n",
       "      <td>0</td>\n",
       "      <td>1</td>\n",
       "      <td>0</td>\n",
       "      <td>0</td>\n",
       "      <td>0</td>\n",
       "      <td>1</td>\n",
       "      <td>0</td>\n",
       "      <td>0</td>\n",
       "      <td>0</td>\n",
       "      <td>1</td>\n",
       "      <td>0</td>\n",
       "      <td>0</td>\n",
       "      <td>1</td>\n",
       "      <td>0</td>\n",
       "      <td>0</td>\n",
       "      <td>1</td>\n",
       "      <td>0</td>\n",
       "      <td>0</td>\n",
       "      <td>0</td>\n",
       "      <td>0</td>\n",
       "      <td>0</td>\n",
       "      <td>1</td>\n",
       "      <td>0</td>\n",
       "      <td>1</td>\n",
       "      <td>0</td>\n",
       "      <td>0</td>\n",
       "      <td>0</td>\n",
       "      <td>1</td>\n",
       "      <td>0</td>\n",
       "    </tr>\n",
       "    <tr>\n",
       "      <th>1</th>\n",
       "      <td>48</td>\n",
       "      <td>5951</td>\n",
       "      <td>2</td>\n",
       "      <td>2</td>\n",
       "      <td>22</td>\n",
       "      <td>1</td>\n",
       "      <td>1</td>\n",
       "      <td>1</td>\n",
       "      <td>1</td>\n",
       "      <td>Bad</td>\n",
       "      <td>0</td>\n",
       "      <td>1</td>\n",
       "      <td>0</td>\n",
       "      <td>0</td>\n",
       "      <td>0</td>\n",
       "      <td>0</td>\n",
       "      <td>1</td>\n",
       "      <td>0</td>\n",
       "      <td>0</td>\n",
       "      <td>0</td>\n",
       "      <td>0</td>\n",
       "      <td>0</td>\n",
       "      <td>1</td>\n",
       "      <td>0</td>\n",
       "      <td>0</td>\n",
       "      <td>0</td>\n",
       "      <td>0</td>\n",
       "      <td>0</td>\n",
       "      <td>0</td>\n",
       "      <td>0</td>\n",
       "      <td>1</td>\n",
       "      <td>0</td>\n",
       "      <td>0</td>\n",
       "      <td>0</td>\n",
       "      <td>0</td>\n",
       "      <td>0</td>\n",
       "      <td>1</td>\n",
       "      <td>0</td>\n",
       "      <td>0</td>\n",
       "      <td>0</td>\n",
       "      <td>0</td>\n",
       "      <td>1</td>\n",
       "      <td>0</td>\n",
       "      <td>0</td>\n",
       "      <td>0</td>\n",
       "      <td>1</td>\n",
       "      <td>0</td>\n",
       "      <td>0</td>\n",
       "      <td>1</td>\n",
       "      <td>0</td>\n",
       "      <td>0</td>\n",
       "      <td>0</td>\n",
       "      <td>0</td>\n",
       "      <td>0</td>\n",
       "      <td>1</td>\n",
       "      <td>0</td>\n",
       "      <td>1</td>\n",
       "      <td>0</td>\n",
       "      <td>0</td>\n",
       "      <td>0</td>\n",
       "      <td>1</td>\n",
       "      <td>0</td>\n",
       "    </tr>\n",
       "    <tr>\n",
       "      <th>2</th>\n",
       "      <td>12</td>\n",
       "      <td>2096</td>\n",
       "      <td>2</td>\n",
       "      <td>3</td>\n",
       "      <td>49</td>\n",
       "      <td>1</td>\n",
       "      <td>2</td>\n",
       "      <td>1</td>\n",
       "      <td>1</td>\n",
       "      <td>Good</td>\n",
       "      <td>0</td>\n",
       "      <td>0</td>\n",
       "      <td>0</td>\n",
       "      <td>1</td>\n",
       "      <td>0</td>\n",
       "      <td>0</td>\n",
       "      <td>0</td>\n",
       "      <td>0</td>\n",
       "      <td>1</td>\n",
       "      <td>0</td>\n",
       "      <td>0</td>\n",
       "      <td>0</td>\n",
       "      <td>0</td>\n",
       "      <td>0</td>\n",
       "      <td>0</td>\n",
       "      <td>1</td>\n",
       "      <td>0</td>\n",
       "      <td>0</td>\n",
       "      <td>0</td>\n",
       "      <td>0</td>\n",
       "      <td>1</td>\n",
       "      <td>0</td>\n",
       "      <td>0</td>\n",
       "      <td>0</td>\n",
       "      <td>0</td>\n",
       "      <td>0</td>\n",
       "      <td>0</td>\n",
       "      <td>1</td>\n",
       "      <td>0</td>\n",
       "      <td>0</td>\n",
       "      <td>0</td>\n",
       "      <td>0</td>\n",
       "      <td>1</td>\n",
       "      <td>0</td>\n",
       "      <td>0</td>\n",
       "      <td>1</td>\n",
       "      <td>0</td>\n",
       "      <td>0</td>\n",
       "      <td>1</td>\n",
       "      <td>0</td>\n",
       "      <td>0</td>\n",
       "      <td>0</td>\n",
       "      <td>0</td>\n",
       "      <td>0</td>\n",
       "      <td>1</td>\n",
       "      <td>0</td>\n",
       "      <td>1</td>\n",
       "      <td>0</td>\n",
       "      <td>0</td>\n",
       "      <td>1</td>\n",
       "      <td>0</td>\n",
       "      <td>0</td>\n",
       "    </tr>\n",
       "    <tr>\n",
       "      <th>3</th>\n",
       "      <td>42</td>\n",
       "      <td>7882</td>\n",
       "      <td>2</td>\n",
       "      <td>4</td>\n",
       "      <td>45</td>\n",
       "      <td>1</td>\n",
       "      <td>2</td>\n",
       "      <td>1</td>\n",
       "      <td>1</td>\n",
       "      <td>Good</td>\n",
       "      <td>1</td>\n",
       "      <td>0</td>\n",
       "      <td>0</td>\n",
       "      <td>0</td>\n",
       "      <td>0</td>\n",
       "      <td>0</td>\n",
       "      <td>1</td>\n",
       "      <td>0</td>\n",
       "      <td>0</td>\n",
       "      <td>0</td>\n",
       "      <td>0</td>\n",
       "      <td>1</td>\n",
       "      <td>0</td>\n",
       "      <td>0</td>\n",
       "      <td>0</td>\n",
       "      <td>0</td>\n",
       "      <td>0</td>\n",
       "      <td>0</td>\n",
       "      <td>0</td>\n",
       "      <td>0</td>\n",
       "      <td>1</td>\n",
       "      <td>0</td>\n",
       "      <td>0</td>\n",
       "      <td>0</td>\n",
       "      <td>0</td>\n",
       "      <td>0</td>\n",
       "      <td>0</td>\n",
       "      <td>1</td>\n",
       "      <td>0</td>\n",
       "      <td>0</td>\n",
       "      <td>0</td>\n",
       "      <td>0</td>\n",
       "      <td>1</td>\n",
       "      <td>0</td>\n",
       "      <td>0</td>\n",
       "      <td>0</td>\n",
       "      <td>0</td>\n",
       "      <td>1</td>\n",
       "      <td>0</td>\n",
       "      <td>1</td>\n",
       "      <td>0</td>\n",
       "      <td>0</td>\n",
       "      <td>0</td>\n",
       "      <td>0</td>\n",
       "      <td>1</td>\n",
       "      <td>0</td>\n",
       "      <td>0</td>\n",
       "      <td>1</td>\n",
       "      <td>0</td>\n",
       "      <td>0</td>\n",
       "      <td>1</td>\n",
       "      <td>0</td>\n",
       "    </tr>\n",
       "    <tr>\n",
       "      <th>4</th>\n",
       "      <td>24</td>\n",
       "      <td>4870</td>\n",
       "      <td>3</td>\n",
       "      <td>4</td>\n",
       "      <td>53</td>\n",
       "      <td>2</td>\n",
       "      <td>2</td>\n",
       "      <td>1</td>\n",
       "      <td>1</td>\n",
       "      <td>Bad</td>\n",
       "      <td>1</td>\n",
       "      <td>0</td>\n",
       "      <td>0</td>\n",
       "      <td>0</td>\n",
       "      <td>0</td>\n",
       "      <td>0</td>\n",
       "      <td>0</td>\n",
       "      <td>1</td>\n",
       "      <td>0</td>\n",
       "      <td>1</td>\n",
       "      <td>0</td>\n",
       "      <td>0</td>\n",
       "      <td>0</td>\n",
       "      <td>0</td>\n",
       "      <td>0</td>\n",
       "      <td>0</td>\n",
       "      <td>0</td>\n",
       "      <td>0</td>\n",
       "      <td>0</td>\n",
       "      <td>0</td>\n",
       "      <td>1</td>\n",
       "      <td>0</td>\n",
       "      <td>0</td>\n",
       "      <td>0</td>\n",
       "      <td>0</td>\n",
       "      <td>0</td>\n",
       "      <td>1</td>\n",
       "      <td>0</td>\n",
       "      <td>0</td>\n",
       "      <td>0</td>\n",
       "      <td>0</td>\n",
       "      <td>0</td>\n",
       "      <td>1</td>\n",
       "      <td>0</td>\n",
       "      <td>0</td>\n",
       "      <td>1</td>\n",
       "      <td>0</td>\n",
       "      <td>0</td>\n",
       "      <td>0</td>\n",
       "      <td>0</td>\n",
       "      <td>0</td>\n",
       "      <td>1</td>\n",
       "      <td>0</td>\n",
       "      <td>0</td>\n",
       "      <td>1</td>\n",
       "      <td>0</td>\n",
       "      <td>0</td>\n",
       "      <td>1</td>\n",
       "      <td>0</td>\n",
       "      <td>0</td>\n",
       "      <td>1</td>\n",
       "      <td>0</td>\n",
       "    </tr>\n",
       "  </tbody>\n",
       "</table>\n",
       "</div>"
      ],
      "text/plain": [
       "   Duration  Amount  InstallmentRatePercentage  ResidenceDuration  Age  \\\n",
       "0         6    1169                          4                  4   67   \n",
       "1        48    5951                          2                  2   22   \n",
       "2        12    2096                          2                  3   49   \n",
       "3        42    7882                          2                  4   45   \n",
       "4        24    4870                          3                  4   53   \n",
       "\n",
       "   NumberExistingCredits  NumberPeopleMaintenance  Telephone  ForeignWorker  \\\n",
       "0                      2                        1          0              1   \n",
       "1                      1                        1          1              1   \n",
       "2                      1                        2          1              1   \n",
       "3                      1                        2          1              1   \n",
       "4                      2                        2          1              1   \n",
       "\n",
       "  Class  CheckingAccountStatus.lt.0  CheckingAccountStatus.0.to.200  \\\n",
       "0  Good                           1                               0   \n",
       "1   Bad                           0                               1   \n",
       "2  Good                           0                               0   \n",
       "3  Good                           1                               0   \n",
       "4   Bad                           1                               0   \n",
       "\n",
       "   CheckingAccountStatus.gt.200  CheckingAccountStatus.none  \\\n",
       "0                             0                           0   \n",
       "1                             0                           0   \n",
       "2                             0                           1   \n",
       "3                             0                           0   \n",
       "4                             0                           0   \n",
       "\n",
       "   CreditHistory.NoCredit.AllPaid  CreditHistory.ThisBank.AllPaid  \\\n",
       "0                               0                               0   \n",
       "1                               0                               0   \n",
       "2                               0                               0   \n",
       "3                               0                               0   \n",
       "4                               0                               0   \n",
       "\n",
       "   CreditHistory.PaidDuly  CreditHistory.Delay  CreditHistory.Critical  \\\n",
       "0                       0                    0                       1   \n",
       "1                       1                    0                       0   \n",
       "2                       0                    0                       1   \n",
       "3                       1                    0                       0   \n",
       "4                       0                    1                       0   \n",
       "\n",
       "   Purpose.NewCar  Purpose.UsedCar  Purpose.Furniture.Equipment  \\\n",
       "0               0                0                            0   \n",
       "1               0                0                            0   \n",
       "2               0                0                            0   \n",
       "3               0                0                            1   \n",
       "4               1                0                            0   \n",
       "\n",
       "   Purpose.Radio.Television  Purpose.DomesticAppliance  Purpose.Repairs  \\\n",
       "0                         1                          0                0   \n",
       "1                         1                          0                0   \n",
       "2                         0                          0                0   \n",
       "3                         0                          0                0   \n",
       "4                         0                          0                0   \n",
       "\n",
       "   Purpose.Education  Purpose.Vacation  Purpose.Retraining  Purpose.Business  \\\n",
       "0                  0                 0                   0                 0   \n",
       "1                  0                 0                   0                 0   \n",
       "2                  1                 0                   0                 0   \n",
       "3                  0                 0                   0                 0   \n",
       "4                  0                 0                   0                 0   \n",
       "\n",
       "   Purpose.Other  SavingsAccountBonds.lt.100  SavingsAccountBonds.100.to.500  \\\n",
       "0              0                           0                               0   \n",
       "1              0                           1                               0   \n",
       "2              0                           1                               0   \n",
       "3              0                           1                               0   \n",
       "4              0                           1                               0   \n",
       "\n",
       "   SavingsAccountBonds.500.to.1000  SavingsAccountBonds.gt.1000  \\\n",
       "0                                0                            0   \n",
       "1                                0                            0   \n",
       "2                                0                            0   \n",
       "3                                0                            0   \n",
       "4                                0                            0   \n",
       "\n",
       "   SavingsAccountBonds.Unknown  EmploymentDuration.lt.1  \\\n",
       "0                            1                        0   \n",
       "1                            0                        0   \n",
       "2                            0                        0   \n",
       "3                            0                        0   \n",
       "4                            0                        0   \n",
       "\n",
       "   EmploymentDuration.1.to.4  EmploymentDuration.4.to.7  \\\n",
       "0                          0                          0   \n",
       "1                          1                          0   \n",
       "2                          0                          1   \n",
       "3                          0                          1   \n",
       "4                          1                          0   \n",
       "\n",
       "   EmploymentDuration.gt.7  EmploymentDuration.Unemployed  \\\n",
       "0                        1                              0   \n",
       "1                        0                              0   \n",
       "2                        0                              0   \n",
       "3                        0                              0   \n",
       "4                        0                              0   \n",
       "\n",
       "   Personal.Male.Divorced.Seperated  Personal.Female.NotSingle  \\\n",
       "0                                 0                          0   \n",
       "1                                 0                          1   \n",
       "2                                 0                          0   \n",
       "3                                 0                          0   \n",
       "4                                 0                          0   \n",
       "\n",
       "   Personal.Male.Single  Personal.Male.Married.Widowed  \\\n",
       "0                     1                              0   \n",
       "1                     0                              0   \n",
       "2                     1                              0   \n",
       "3                     1                              0   \n",
       "4                     1                              0   \n",
       "\n",
       "   Personal.Female.Single  OtherDebtorsGuarantors.None  \\\n",
       "0                       0                            1   \n",
       "1                       0                            1   \n",
       "2                       0                            1   \n",
       "3                       0                            0   \n",
       "4                       0                            1   \n",
       "\n",
       "   OtherDebtorsGuarantors.CoApplicant  OtherDebtorsGuarantors.Guarantor  \\\n",
       "0                                   0                                 0   \n",
       "1                                   0                                 0   \n",
       "2                                   0                                 0   \n",
       "3                                   0                                 1   \n",
       "4                                   0                                 0   \n",
       "\n",
       "   Property.RealEstate  Property.Insurance  Property.CarOther  \\\n",
       "0                    1                   0                  0   \n",
       "1                    1                   0                  0   \n",
       "2                    1                   0                  0   \n",
       "3                    0                   1                  0   \n",
       "4                    0                   0                  0   \n",
       "\n",
       "   Property.Unknown  OtherInstallmentPlans.Bank  OtherInstallmentPlans.Stores  \\\n",
       "0                 0                           0                             0   \n",
       "1                 0                           0                             0   \n",
       "2                 0                           0                             0   \n",
       "3                 0                           0                             0   \n",
       "4                 1                           0                             0   \n",
       "\n",
       "   OtherInstallmentPlans.None  Housing.Rent  Housing.Own  Housing.ForFree  \\\n",
       "0                           1             0            1                0   \n",
       "1                           1             0            1                0   \n",
       "2                           1             0            1                0   \n",
       "3                           1             0            0                1   \n",
       "4                           1             0            0                1   \n",
       "\n",
       "   Job.UnemployedUnskilled  Job.UnskilledResident  Job.SkilledEmployee  \\\n",
       "0                        0                      0                    1   \n",
       "1                        0                      0                    1   \n",
       "2                        0                      1                    0   \n",
       "3                        0                      0                    1   \n",
       "4                        0                      0                    1   \n",
       "\n",
       "   Job.Management.SelfEmp.HighlyQualified  \n",
       "0                                       0  \n",
       "1                                       0  \n",
       "2                                       0  \n",
       "3                                       0  \n",
       "4                                       0  "
      ]
     },
     "execution_count": 3,
     "metadata": {},
     "output_type": "execute_result"
    }
   ],
   "source": [
    "pd.set_option(\"display.max_columns\", 70)\n",
    "df.head()"
   ]
  },
  {
   "cell_type": "code",
   "execution_count": 4,
   "metadata": {},
   "outputs": [],
   "source": [
    "X = df.drop(\"Class\", axis=1)"
   ]
  },
  {
   "cell_type": "code",
   "execution_count": 5,
   "metadata": {},
   "outputs": [],
   "source": [
    "y = df[\"Class\"]"
   ]
  },
  {
   "cell_type": "code",
   "execution_count": 6,
   "metadata": {},
   "outputs": [],
   "source": [
    "classifier = DecisionTreeClassifier()\n",
    "param_grid = {'max_depth': [2, 3, 4], 'min_samples_leaf': [1, 2, 3]}\n",
    "\n",
    "kfold = KFold(n_splits=4)\n",
    "\n",
    "#grid search, cross-validation\n",
    "grid_search = GridSearchCV(classifier, param_grid, cv=kfold)\n",
    "grid_search.fit(X, y)\n",
    "\n",
    "# Get the best params\n",
    "best_params = grid_search.best_params_\n",
    "best_score = grid_search.best_score_"
   ]
  },
  {
   "cell_type": "code",
   "execution_count": 7,
   "metadata": {},
   "outputs": [
    {
     "data": {
      "text/plain": [
       "0.712"
      ]
     },
     "execution_count": 7,
     "metadata": {},
     "output_type": "execute_result"
    }
   ],
   "source": [
    "best_score"
   ]
  },
  {
   "cell_type": "code",
   "execution_count": 8,
   "metadata": {},
   "outputs": [
    {
     "data": {
      "text/plain": [
       "{'max_depth': 2, 'min_samples_leaf': 1}"
      ]
     },
     "execution_count": 8,
     "metadata": {},
     "output_type": "execute_result"
    }
   ],
   "source": [
    "best_params"
   ]
  },
  {
   "cell_type": "markdown",
   "metadata": {},
   "source": [
    "## Random Forests"
   ]
  },
  {
   "cell_type": "markdown",
   "metadata": {},
   "source": [
    "As discussed in the lecture videos, Decision Tree algorithms also have certain undesireable properties. Mainly the have low bias, which is good, but tend to have high variance - which is *not* so good (more about this problem here: https://en.wikipedia.org/wiki/Bias%E2%80%93variance_tradeoff)."
   ]
  },
  {
   "cell_type": "markdown",
   "metadata": {},
   "source": [
    "Noticing these problems, the late Professor Leo Breiman, in 2001, developed the Random Forests algorithm, which mitigates these problems, while at the same time providing even higher predictive accuracy than the majority of Decision Tree algorithm implementations. While the curriculum contains two excellent lectures on Random Forests, if you're interested, you can dive into the original paper here: https://link.springer.com/content/pdf/10.1023%2FA%3A1010933404324.pdf."
   ]
  },
  {
   "cell_type": "markdown",
   "metadata": {},
   "source": [
    "In the next part of this assignment, your are going to use the same \"German Credit\" dataset to train, tune, and measure the performance of a Random Forests model. You will also see certain functionalities that this model, even though it's a bit of a \"black box\", provides for some degree of interpretability."
   ]
  },
  {
   "cell_type": "markdown",
   "metadata": {},
   "source": [
    "First, let's build a Random Forests model, using the same best practices that you've used for your Decision Trees model. You can reuse the things you've already imported there, so no need to do any re-imports, new train/test splits, or loading up the data again."
   ]
  },
  {
   "cell_type": "code",
   "execution_count": 9,
   "metadata": {},
   "outputs": [],
   "source": [
    "from sklearn.ensemble import RandomForestClassifier"
   ]
  },
  {
   "cell_type": "code",
   "execution_count": 10,
   "metadata": {},
   "outputs": [],
   "source": [
    "x_train, x_test, y_train, y_test = train_test_split(X, y, test_size=0.3, random_state=42)"
   ]
  },
  {
   "cell_type": "code",
   "execution_count": 11,
   "metadata": {},
   "outputs": [],
   "source": [
    "rf_classifier = RandomForestClassifier()"
   ]
  },
  {
   "cell_type": "code",
   "execution_count": 12,
   "metadata": {},
   "outputs": [
    {
     "data": {
      "text/html": [
       "<style>#sk-container-id-1 {color: black;background-color: white;}#sk-container-id-1 pre{padding: 0;}#sk-container-id-1 div.sk-toggleable {background-color: white;}#sk-container-id-1 label.sk-toggleable__label {cursor: pointer;display: block;width: 100%;margin-bottom: 0;padding: 0.3em;box-sizing: border-box;text-align: center;}#sk-container-id-1 label.sk-toggleable__label-arrow:before {content: \"▸\";float: left;margin-right: 0.25em;color: #696969;}#sk-container-id-1 label.sk-toggleable__label-arrow:hover:before {color: black;}#sk-container-id-1 div.sk-estimator:hover label.sk-toggleable__label-arrow:before {color: black;}#sk-container-id-1 div.sk-toggleable__content {max-height: 0;max-width: 0;overflow: hidden;text-align: left;background-color: #f0f8ff;}#sk-container-id-1 div.sk-toggleable__content pre {margin: 0.2em;color: black;border-radius: 0.25em;background-color: #f0f8ff;}#sk-container-id-1 input.sk-toggleable__control:checked~div.sk-toggleable__content {max-height: 200px;max-width: 100%;overflow: auto;}#sk-container-id-1 input.sk-toggleable__control:checked~label.sk-toggleable__label-arrow:before {content: \"▾\";}#sk-container-id-1 div.sk-estimator input.sk-toggleable__control:checked~label.sk-toggleable__label {background-color: #d4ebff;}#sk-container-id-1 div.sk-label input.sk-toggleable__control:checked~label.sk-toggleable__label {background-color: #d4ebff;}#sk-container-id-1 input.sk-hidden--visually {border: 0;clip: rect(1px 1px 1px 1px);clip: rect(1px, 1px, 1px, 1px);height: 1px;margin: -1px;overflow: hidden;padding: 0;position: absolute;width: 1px;}#sk-container-id-1 div.sk-estimator {font-family: monospace;background-color: #f0f8ff;border: 1px dotted black;border-radius: 0.25em;box-sizing: border-box;margin-bottom: 0.5em;}#sk-container-id-1 div.sk-estimator:hover {background-color: #d4ebff;}#sk-container-id-1 div.sk-parallel-item::after {content: \"\";width: 100%;border-bottom: 1px solid gray;flex-grow: 1;}#sk-container-id-1 div.sk-label:hover label.sk-toggleable__label {background-color: #d4ebff;}#sk-container-id-1 div.sk-serial::before {content: \"\";position: absolute;border-left: 1px solid gray;box-sizing: border-box;top: 0;bottom: 0;left: 50%;z-index: 0;}#sk-container-id-1 div.sk-serial {display: flex;flex-direction: column;align-items: center;background-color: white;padding-right: 0.2em;padding-left: 0.2em;position: relative;}#sk-container-id-1 div.sk-item {position: relative;z-index: 1;}#sk-container-id-1 div.sk-parallel {display: flex;align-items: stretch;justify-content: center;background-color: white;position: relative;}#sk-container-id-1 div.sk-item::before, #sk-container-id-1 div.sk-parallel-item::before {content: \"\";position: absolute;border-left: 1px solid gray;box-sizing: border-box;top: 0;bottom: 0;left: 50%;z-index: -1;}#sk-container-id-1 div.sk-parallel-item {display: flex;flex-direction: column;z-index: 1;position: relative;background-color: white;}#sk-container-id-1 div.sk-parallel-item:first-child::after {align-self: flex-end;width: 50%;}#sk-container-id-1 div.sk-parallel-item:last-child::after {align-self: flex-start;width: 50%;}#sk-container-id-1 div.sk-parallel-item:only-child::after {width: 0;}#sk-container-id-1 div.sk-dashed-wrapped {border: 1px dashed gray;margin: 0 0.4em 0.5em 0.4em;box-sizing: border-box;padding-bottom: 0.4em;background-color: white;}#sk-container-id-1 div.sk-label label {font-family: monospace;font-weight: bold;display: inline-block;line-height: 1.2em;}#sk-container-id-1 div.sk-label-container {text-align: center;}#sk-container-id-1 div.sk-container {/* jupyter's `normalize.less` sets `[hidden] { display: none; }` but bootstrap.min.css set `[hidden] { display: none !important; }` so we also need the `!important` here to be able to override the default hidden behavior on the sphinx rendered scikit-learn.org. See: https://github.com/scikit-learn/scikit-learn/issues/21755 */display: inline-block !important;position: relative;}#sk-container-id-1 div.sk-text-repr-fallback {display: none;}</style><div id=\"sk-container-id-1\" class=\"sk-top-container\"><div class=\"sk-text-repr-fallback\"><pre>RandomForestClassifier()</pre><b>In a Jupyter environment, please rerun this cell to show the HTML representation or trust the notebook. <br />On GitHub, the HTML representation is unable to render, please try loading this page with nbviewer.org.</b></div><div class=\"sk-container\" hidden><div class=\"sk-item\"><div class=\"sk-estimator sk-toggleable\"><input class=\"sk-toggleable__control sk-hidden--visually\" id=\"sk-estimator-id-1\" type=\"checkbox\" checked><label for=\"sk-estimator-id-1\" class=\"sk-toggleable__label sk-toggleable__label-arrow\">RandomForestClassifier</label><div class=\"sk-toggleable__content\"><pre>RandomForestClassifier()</pre></div></div></div></div></div>"
      ],
      "text/plain": [
       "RandomForestClassifier()"
      ]
     },
     "execution_count": 12,
     "metadata": {},
     "output_type": "execute_result"
    }
   ],
   "source": [
    "rf_classifier.fit(x_train, y_train)"
   ]
  },
  {
   "cell_type": "code",
   "execution_count": 13,
   "metadata": {},
   "outputs": [],
   "source": [
    "y_pred = rf_classifier.predict(x_test)"
   ]
  },
  {
   "cell_type": "code",
   "execution_count": 14,
   "metadata": {},
   "outputs": [],
   "source": [
    "from sklearn.metrics import accuracy_score"
   ]
  },
  {
   "cell_type": "code",
   "execution_count": 15,
   "metadata": {},
   "outputs": [],
   "source": [
    "accuracy = accuracy_score(y_test, y_pred)"
   ]
  },
  {
   "cell_type": "code",
   "execution_count": 16,
   "metadata": {},
   "outputs": [
    {
     "data": {
      "text/plain": [
       "0.7666666666666667"
      ]
     },
     "execution_count": 16,
     "metadata": {},
     "output_type": "execute_result"
    }
   ],
   "source": [
    "accuracy"
   ]
  },
  {
   "cell_type": "markdown",
   "metadata": {},
   "source": [
    "As mentioned, there are certain ways to \"peek\" into a model created by the Random Forests algorithm. The first, and most popular one, is the Feature Importance calculation functionality. This allows the ML practitioner to see an ordering of the importance of the features that have contributed the most to the predictive accuracy of the model. \n",
    "\n",
    "You can see how to use this in the scikit-learn documentation (http://scikit-learn.org/stable/modules/generated/sklearn.ensemble.RandomForestClassifier.html#sklearn.ensemble.RandomForestClassifier.feature_importances_). Now, if you tried this, you would just get an ordered table of not directly interpretable numeric values. Thus, it's much more useful to show the feature importance in a visual way. You can see an example of how that's done here: http://scikit-learn.org/stable/auto_examples/ensemble/plot_forest_importances.html#sphx-glr-auto-examples-ensemble-plot-forest-importances-py\n",
    "\n",
    "Now you try! Let's visualize the importance of features from your Random Forests model!"
   ]
  },
  {
   "cell_type": "code",
   "execution_count": 17,
   "metadata": {},
   "outputs": [],
   "source": [
    "importances = rf_classifier.feature_importances_"
   ]
  },
  {
   "cell_type": "code",
   "execution_count": 18,
   "metadata": {},
   "outputs": [],
   "source": [
    "import matplotlib.pyplot as plt"
   ]
  },
  {
   "cell_type": "code",
   "execution_count": 19,
   "metadata": {},
   "outputs": [],
   "source": [
    "import numpy as np"
   ]
  },
  {
   "cell_type": "code",
   "execution_count": 20,
   "metadata": {},
   "outputs": [
    {
     "data": {
      "image/png": "[encoded data removed]",
      "text/plain": [
       "<Figure size 640x480 with 1 Axes>"
      ]
     },
     "metadata": {},
     "output_type": "display_data"
    }
   ],
   "source": [
    "forest_importances = pd.Series(importances)\n",
    "\n",
    "std = np.std(importances)\n",
    "\n",
    "fig, ax = plt.subplots()\n",
    "forest_importances.plot.bar(yerr=std, ax=ax)\n",
    "ax.set_title(\"Feature importances using MDI\")\n",
    "ax.set_ylabel(\"Mean decrease in impurity\")\n",
    "fig.tight_layout()"
   ]
  },
  {
   "cell_type": "markdown",
   "metadata": {},
   "source": [
    "A final method for gaining some insight into the inner working of your Random Forests models is a so-called Partial Dependence Plot. The Partial Dependence Plot (PDP or PD plot) shows the marginal effect of a feature on the predicted outcome of a previously fit model. The prediction function is fixed at a few values of the chosen features and averaged over the other features. A partial dependence plot can show if the relationship between the target and a feature is linear, monotonic or more complex. \n",
    "\n",
    "In scikit-learn, PDPs are implemented and available for certain algorithms, but at this point (version 0.20.0) they are not yet implemented for Random Forests. Thankfully, there is an add-on package called **PDPbox** (https://pdpbox.readthedocs.io/en/latest/) which adds this functionality to Random Forests. The package is easy to install through pip."
   ]
  },
  {
   "cell_type": "code",
   "execution_count": null,
   "metadata": {},
   "outputs": [],
   "source": [
    "! pip install pdpbox"
   ]
  },
  {
   "cell_type": "markdown",
   "metadata": {},
   "source": [
    "While we encourage you to read the documentation for the package (and reading package documentation in general is a good habit to develop), the authors of the package have also written an excellent blog post on how to use it, showing examples on different algorithms from scikit-learn (the Random Forests example is towards the end of the blog post): https://briangriner.github.io/Partial_Dependence_Plots_presentation-BrianGriner-PrincetonPublicLibrary-4.14.18-updated-4.22.18.html"
   ]
  },
  {
   "cell_type": "markdown",
   "metadata": {},
   "source": [
    "So, armed with this new knowledge, feel free to pick a few features, and make a couple of Partial Dependence Plots of your own!"
   ]
  },
  {
   "cell_type": "code",
   "execution_count": 21,
   "metadata": {},
   "outputs": [],
   "source": [
    "import pdpbox as pdp"
   ]
  },
  {
   "cell_type": "code",
   "execution_count": 154,
   "metadata": {},
   "outputs": [
    {
     "name": "stdout",
     "output_type": "stream",
     "text": [
      "Requirement already satisfied: pdpbox in c:\\users\\obama\\appdata\\local\\packages\\pythonsoftwarefoundation.python.3.9_qbz5n2kfra8p0\\localcache\\local-packages\\python39\\site-packages (0.3.0)\n",
      "Requirement already satisfied: pandas>=1.4.4 in c:\\users\\obama\\appdata\\local\\packages\\pythonsoftwarefoundation.python.3.9_qbz5n2kfra8p0\\localcache\\local-packages\\python39\\site-packages (from pdpbox) (1.5.3)\n",
      "Requirement already satisfied: numpydoc>=1.4.0 in c:\\users\\obama\\appdata\\local\\packages\\pythonsoftwarefoundation.python.3.9_qbz5n2kfra8p0\\localcache\\local-packages\\python39\\site-packages (from pdpbox) (1.5.0)\n",
      "Requirement already satisfied: numpy>=1.21.5 in c:\\users\\obama\\appdata\\local\\packages\\pythonsoftwarefoundation.python.3.9_qbz5n2kfra8p0\\localcache\\local-packages\\python39\\site-packages (from pdpbox) (1.24.2)\n",
      "Requirement already satisfied: joblib>=1.1.0 in c:\\users\\obama\\appdata\\local\\packages\\pythonsoftwarefoundation.python.3.9_qbz5n2kfra8p0\\localcache\\local-packages\\python39\\site-packages (from pdpbox) (1.2.0)\n",
      "Requirement already satisfied: plotly>=5.9.0 in c:\\users\\obama\\appdata\\local\\packages\\pythonsoftwarefoundation.python.3.9_qbz5n2kfra8p0\\localcache\\local-packages\\python39\\site-packages (from pdpbox) (5.15.0)\n",
      "Requirement already satisfied: pytest in c:\\users\\obama\\appdata\\local\\packages\\pythonsoftwarefoundation.python.3.9_qbz5n2kfra8p0\\localcache\\local-packages\\python39\\site-packages (from pdpbox) (7.4.0)\n",
      "Requirement already satisfied: xgboost>=1.7.1 in c:\\users\\obama\\appdata\\local\\packages\\pythonsoftwarefoundation.python.3.9_qbz5n2kfra8p0\\localcache\\local-packages\\python39\\site-packages (from pdpbox) (1.7.6)\n",
      "Requirement already satisfied: pqdm>=0.2.0 in c:\\users\\obama\\appdata\\local\\packages\\pythonsoftwarefoundation.python.3.9_qbz5n2kfra8p0\\localcache\\local-packages\\python39\\site-packages (from pdpbox) (0.2.0)\n",
      "Requirement already satisfied: tqdm>=4.64.1 in c:\\users\\obama\\appdata\\local\\packages\\pythonsoftwarefoundation.python.3.9_qbz5n2kfra8p0\\localcache\\local-packages\\python39\\site-packages (from pdpbox) (4.65.0)\n",
      "Requirement already satisfied: matplotlib>=3.6.2 in c:\\users\\obama\\appdata\\local\\packages\\pythonsoftwarefoundation.python.3.9_qbz5n2kfra8p0\\localcache\\local-packages\\python39\\site-packages (from pdpbox) (3.7.1)\n",
      "Requirement already satisfied: psutil>=5.9.0 in c:\\users\\obama\\appdata\\local\\packages\\pythonsoftwarefoundation.python.3.9_qbz5n2kfra8p0\\localcache\\local-packages\\python39\\site-packages (from pdpbox) (5.9.4)\n",
      "Requirement already satisfied: scikit-learn>=1.0.2 in c:\\users\\obama\\appdata\\local\\packages\\pythonsoftwarefoundation.python.3.9_qbz5n2kfra8p0\\localcache\\local-packages\\python39\\site-packages (from pdpbox) (1.1.3)\n",
      "Requirement already satisfied: setuptools in c:\\program files\\windowsapps\\pythonsoftwarefoundation.python.3.9_3.9.3568.0_x64__qbz5n2kfra8p0\\lib\\site-packages (from pdpbox) (58.1.0)\n",
      "Requirement already satisfied: sphinx-rtd-theme>=1.1.1 in c:\\users\\obama\\appdata\\local\\packages\\pythonsoftwarefoundation.python.3.9_qbz5n2kfra8p0\\localcache\\local-packages\\python39\\site-packages (from pdpbox) (1.2.2)\n",
      "Requirement already satisfied: sphinx>=5.0.2 in c:\\users\\obama\\appdata\\local\\packages\\pythonsoftwarefoundation.python.3.9_qbz5n2kfra8p0\\localcache\\local-packages\\python39\\site-packages (from pdpbox) (6.2.1)\n",
      "Requirement already satisfied: pyparsing>=2.3.1 in c:\\users\\obama\\appdata\\local\\packages\\pythonsoftwarefoundation.python.3.9_qbz5n2kfra8p0\\localcache\\local-packages\\python39\\site-packages (from matplotlib>=3.6.2->pdpbox) (3.0.9)\n",
      "Requirement already satisfied: contourpy>=1.0.1 in c:\\users\\obama\\appdata\\local\\packages\\pythonsoftwarefoundation.python.3.9_qbz5n2kfra8p0\\localcache\\local-packages\\python39\\site-packages (from matplotlib>=3.6.2->pdpbox) (1.0.7)\n",
      "Requirement already satisfied: packaging>=20.0 in c:\\users\\obama\\appdata\\local\\packages\\pythonsoftwarefoundation.python.3.9_qbz5n2kfra8p0\\localcache\\local-packages\\python39\\site-packages (from matplotlib>=3.6.2->pdpbox) (23.0)\n",
      "Requirement already satisfied: cycler>=0.10 in c:\\users\\obama\\appdata\\local\\packages\\pythonsoftwarefoundation.python.3.9_qbz5n2kfra8p0\\localcache\\local-packages\\python39\\site-packages (from matplotlib>=3.6.2->pdpbox) (0.11.0)\n",
      "Requirement already satisfied: pillow>=6.2.0 in c:\\users\\obama\\appdata\\local\\packages\\pythonsoftwarefoundation.python.3.9_qbz5n2kfra8p0\\localcache\\local-packages\\python39\\site-packages (from matplotlib>=3.6.2->pdpbox) (9.5.0)\n",
      "Requirement already satisfied: importlib-resources>=3.2.0 in c:\\users\\obama\\appdata\\local\\packages\\pythonsoftwarefoundation.python.3.9_qbz5n2kfra8p0\\localcache\\local-packages\\python39\\site-packages (from matplotlib>=3.6.2->pdpbox) (5.12.0)\n",
      "Requirement already satisfied: fonttools>=4.22.0 in c:\\users\\obama\\appdata\\local\\packages\\pythonsoftwarefoundation.python.3.9_qbz5n2kfra8p0\\localcache\\local-packages\\python39\\site-packages (from matplotlib>=3.6.2->pdpbox) (4.39.3)\n",
      "Requirement already satisfied: kiwisolver>=1.0.1 in c:\\users\\obama\\appdata\\local\\packages\\pythonsoftwarefoundation.python.3.9_qbz5n2kfra8p0\\localcache\\local-packages\\python39\\site-packages (from matplotlib>=3.6.2->pdpbox) (1.4.4)\n",
      "Requirement already satisfied: python-dateutil>=2.7 in c:\\users\\obama\\appdata\\local\\packages\\pythonsoftwarefoundation.python.3.9_qbz5n2kfra8p0\\localcache\\local-packages\\python39\\site-packages (from matplotlib>=3.6.2->pdpbox) (2.8.2)\n",
      "Requirement already satisfied: Jinja2>=2.10 in c:\\users\\obama\\appdata\\local\\packages\\pythonsoftwarefoundation.python.3.9_qbz5n2kfra8p0\\localcache\\local-packages\\python39\\site-packages (from numpydoc>=1.4.0->pdpbox) (3.1.2)\n",
      "Requirement already satisfied: pytz>=2020.1 in c:\\users\\obama\\appdata\\local\\packages\\pythonsoftwarefoundation.python.3.9_qbz5n2kfra8p0\\localcache\\local-packages\\python39\\site-packages (from pandas>=1.4.4->pdpbox) (2022.7.1)\n",
      "Requirement already satisfied: tenacity>=6.2.0 in c:\\users\\obama\\appdata\\local\\packages\\pythonsoftwarefoundation.python.3.9_qbz5n2kfra8p0\\localcache\\local-packages\\python39\\site-packages (from plotly>=5.9.0->pdpbox) (8.2.2)\n",
      "Requirement already satisfied: bounded-pool-executor in c:\\users\\obama\\appdata\\local\\packages\\pythonsoftwarefoundation.python.3.9_qbz5n2kfra8p0\\localcache\\local-packages\\python39\\site-packages (from pqdm>=0.2.0->pdpbox) (0.0.3)\n",
      "Requirement already satisfied: typing-extensions in c:\\users\\obama\\appdata\\local\\packages\\pythonsoftwarefoundation.python.3.9_qbz5n2kfra8p0\\localcache\\local-packages\\python39\\site-packages (from pqdm>=0.2.0->pdpbox) (4.5.0)\n",
      "Requirement already satisfied: scipy>=1.3.2 in c:\\users\\obama\\appdata\\local\\packages\\pythonsoftwarefoundation.python.3.9_qbz5n2kfra8p0\\localcache\\local-packages\\python39\\site-packages (from scikit-learn>=1.0.2->pdpbox) (1.10.1)\n",
      "Requirement already satisfied: threadpoolctl>=2.0.0 in c:\\users\\obama\\appdata\\local\\packages\\pythonsoftwarefoundation.python.3.9_qbz5n2kfra8p0\\localcache\\local-packages\\python39\\site-packages (from scikit-learn>=1.0.2->pdpbox) (3.1.0)\n",
      "Requirement already satisfied: colorama>=0.4.5 in c:\\users\\obama\\appdata\\local\\packages\\pythonsoftwarefoundation.python.3.9_qbz5n2kfra8p0\\localcache\\local-packages\\python39\\site-packages (from sphinx>=5.0.2->pdpbox) (0.4.6)\n",
      "Requirement already satisfied: sphinxcontrib-applehelp in c:\\users\\obama\\appdata\\local\\packages\\pythonsoftwarefoundation.python.3.9_qbz5n2kfra8p0\\localcache\\local-packages\\python39\\site-packages (from sphinx>=5.0.2->pdpbox) (1.0.4)\n",
      "Requirement already satisfied: imagesize>=1.3 in c:\\users\\obama\\appdata\\local\\packages\\pythonsoftwarefoundation.python.3.9_qbz5n2kfra8p0\\localcache\\local-packages\\python39\\site-packages (from sphinx>=5.0.2->pdpbox) (1.4.1)\n",
      "Requirement already satisfied: sphinxcontrib-htmlhelp>=2.0.0 in c:\\users\\obama\\appdata\\local\\packages\\pythonsoftwarefoundation.python.3.9_qbz5n2kfra8p0\\localcache\\local-packages\\python39\\site-packages (from sphinx>=5.0.2->pdpbox) (2.0.1)\n",
      "Requirement already satisfied: sphinxcontrib-serializinghtml>=1.1.5 in c:\\users\\obama\\appdata\\local\\packages\\pythonsoftwarefoundation.python.3.9_qbz5n2kfra8p0\\localcache\\local-packages\\python39\\site-packages (from sphinx>=5.0.2->pdpbox) (1.1.5)\n",
      "Requirement already satisfied: Pygments>=2.13 in c:\\users\\obama\\appdata\\local\\packages\\pythonsoftwarefoundation.python.3.9_qbz5n2kfra8p0\\localcache\\local-packages\\python39\\site-packages (from sphinx>=5.0.2->pdpbox) (2.14.0)\n",
      "Requirement already satisfied: sphinxcontrib-qthelp in c:\\users\\obama\\appdata\\local\\packages\\pythonsoftwarefoundation.python.3.9_qbz5n2kfra8p0\\localcache\\local-packages\\python39\\site-packages (from sphinx>=5.0.2->pdpbox) (1.0.3)\n",
      "Requirement already satisfied: alabaster<0.8,>=0.7 in c:\\users\\obama\\appdata\\local\\packages\\pythonsoftwarefoundation.python.3.9_qbz5n2kfra8p0\\localcache\\local-packages\\python39\\site-packages (from sphinx>=5.0.2->pdpbox) (0.7.13)\n",
      "Requirement already satisfied: sphinxcontrib-devhelp in c:\\users\\obama\\appdata\\local\\packages\\pythonsoftwarefoundation.python.3.9_qbz5n2kfra8p0\\localcache\\local-packages\\python39\\site-packages (from sphinx>=5.0.2->pdpbox) (1.0.2)\n",
      "Requirement already satisfied: requests>=2.25.0 in c:\\users\\obama\\appdata\\local\\packages\\pythonsoftwarefoundation.python.3.9_qbz5n2kfra8p0\\localcache\\local-packages\\python39\\site-packages (from sphinx>=5.0.2->pdpbox) (2.28.2)\n",
      "Requirement already satisfied: snowballstemmer>=2.0 in c:\\users\\obama\\appdata\\local\\packages\\pythonsoftwarefoundation.python.3.9_qbz5n2kfra8p0\\localcache\\local-packages\\python39\\site-packages (from sphinx>=5.0.2->pdpbox) (2.2.0)\n",
      "Requirement already satisfied: babel>=2.9 in c:\\users\\obama\\appdata\\local\\packages\\pythonsoftwarefoundation.python.3.9_qbz5n2kfra8p0\\localcache\\local-packages\\python39\\site-packages (from sphinx>=5.0.2->pdpbox) (2.11.0)\n",
      "Requirement already satisfied: importlib-metadata>=4.8 in c:\\users\\obama\\appdata\\local\\packages\\pythonsoftwarefoundation.python.3.9_qbz5n2kfra8p0\\localcache\\local-packages\\python39\\site-packages (from sphinx>=5.0.2->pdpbox) (6.0.0)\n",
      "Requirement already satisfied: docutils<0.20,>=0.18.1 in c:\\users\\obama\\appdata\\local\\packages\\pythonsoftwarefoundation.python.3.9_qbz5n2kfra8p0\\localcache\\local-packages\\python39\\site-packages (from sphinx>=5.0.2->pdpbox) (0.18.1)\n",
      "Requirement already satisfied: sphinxcontrib-jsmath in c:\\users\\obama\\appdata\\local\\packages\\pythonsoftwarefoundation.python.3.9_qbz5n2kfra8p0\\localcache\\local-packages\\python39\\site-packages (from sphinx>=5.0.2->pdpbox) (1.0.1)\n",
      "Requirement already satisfied: sphinxcontrib-jquery<5,>=4 in c:\\users\\obama\\appdata\\local\\packages\\pythonsoftwarefoundation.python.3.9_qbz5n2kfra8p0\\localcache\\local-packages\\python39\\site-packages (from sphinx-rtd-theme>=1.1.1->pdpbox) (4.1)\n",
      "Requirement already satisfied: iniconfig in c:\\users\\obama\\appdata\\local\\packages\\pythonsoftwarefoundation.python.3.9_qbz5n2kfra8p0\\localcache\\local-packages\\python39\\site-packages (from pytest->pdpbox) (2.0.0)\n",
      "Requirement already satisfied: tomli>=1.0.0 in c:\\users\\obama\\appdata\\local\\packages\\pythonsoftwarefoundation.python.3.9_qbz5n2kfra8p0\\localcache\\local-packages\\python39\\site-packages (from pytest->pdpbox) (2.0.1)\n",
      "Requirement already satisfied: pluggy<2.0,>=0.12 in c:\\users\\obama\\appdata\\local\\packages\\pythonsoftwarefoundation.python.3.9_qbz5n2kfra8p0\\localcache\\local-packages\\python39\\site-packages (from pytest->pdpbox) (1.2.0)\n",
      "Requirement already satisfied: exceptiongroup>=1.0.0rc8 in c:\\users\\obama\\appdata\\local\\packages\\pythonsoftwarefoundation.python.3.9_qbz5n2kfra8p0\\localcache\\local-packages\\python39\\site-packages (from pytest->pdpbox) (1.1.2)\n",
      "Requirement already satisfied: zipp>=0.5 in c:\\users\\obama\\appdata\\local\\packages\\pythonsoftwarefoundation.python.3.9_qbz5n2kfra8p0\\localcache\\local-packages\\python39\\site-packages (from importlib-metadata>=4.8->sphinx>=5.0.2->pdpbox) (3.12.0)\n",
      "Requirement already satisfied: MarkupSafe>=2.0 in c:\\users\\obama\\appdata\\local\\packages\\pythonsoftwarefoundation.python.3.9_qbz5n2kfra8p0\\localcache\\local-packages\\python39\\site-packages (from Jinja2>=2.10->numpydoc>=1.4.0->pdpbox) (2.1.2)\n",
      "Requirement already satisfied: six>=1.5 in c:\\users\\obama\\appdata\\local\\packages\\pythonsoftwarefoundation.python.3.9_qbz5n2kfra8p0\\localcache\\local-packages\\python39\\site-packages (from python-dateutil>=2.7->matplotlib>=3.6.2->pdpbox) (1.16.0)\n",
      "Requirement already satisfied: idna<4,>=2.5 in c:\\users\\obama\\appdata\\local\\packages\\pythonsoftwarefoundation.python.3.9_qbz5n2kfra8p0\\localcache\\local-packages\\python39\\site-packages (from requests>=2.25.0->sphinx>=5.0.2->pdpbox) (3.3)\n",
      "Requirement already satisfied: urllib3<1.27,>=1.21.1 in c:\\users\\obama\\appdata\\local\\packages\\pythonsoftwarefoundation.python.3.9_qbz5n2kfra8p0\\localcache\\local-packages\\python39\\site-packages (from requests>=2.25.0->sphinx>=5.0.2->pdpbox) (1.26.12)\n",
      "Requirement already satisfied: charset-normalizer<4,>=2 in c:\\users\\obama\\appdata\\local\\packages\\pythonsoftwarefoundation.python.3.9_qbz5n2kfra8p0\\localcache\\local-packages\\python39\\site-packages (from requests>=2.25.0->sphinx>=5.0.2->pdpbox) (3.0.1)\n",
      "Requirement already satisfied: certifi>=2017.4.17 in c:\\users\\obama\\appdata\\local\\packages\\pythonsoftwarefoundation.python.3.9_qbz5n2kfra8p0\\localcache\\local-packages\\python39\\site-packages (from requests>=2.25.0->sphinx>=5.0.2->pdpbox) (2022.6.15)\n"
     ]
    },
    {
     "name": "stderr",
     "output_type": "stream",
     "text": [
      "\n",
      "[notice] A new release of pip is available: 23.0.1 -> 23.2\n",
      "[notice] To update, run: C:\\Users\\Obama\\AppData\\Local\\Microsoft\\WindowsApps\\PythonSoftwareFoundation.Python.3.9_qbz5n2kfra8p0\\python.exe -m pip install --upgrade pip\n"
     ]
    }
   ],
   "source": [
    "!pip install pdpbox --upgrade"
   ]
  },
  {
   "cell_type": "code",
   "execution_count": 22,
   "metadata": {},
   "outputs": [
    {
     "data": {
      "text/plain": [
       "Index(['Duration', 'Amount', 'InstallmentRatePercentage', 'ResidenceDuration',\n",
       "       'Age', 'NumberExistingCredits', 'NumberPeopleMaintenance', 'Telephone',\n",
       "       'ForeignWorker', 'Class', 'CheckingAccountStatus.lt.0',\n",
       "       'CheckingAccountStatus.0.to.200', 'CheckingAccountStatus.gt.200',\n",
       "       'CheckingAccountStatus.none', 'CreditHistory.NoCredit.AllPaid',\n",
       "       'CreditHistory.ThisBank.AllPaid', 'CreditHistory.PaidDuly',\n",
       "       'CreditHistory.Delay', 'CreditHistory.Critical', 'Purpose.NewCar',\n",
       "       'Purpose.UsedCar', 'Purpose.Furniture.Equipment',\n",
       "       'Purpose.Radio.Television', 'Purpose.DomesticAppliance',\n",
       "       'Purpose.Repairs', 'Purpose.Education', 'Purpose.Vacation',\n",
       "       'Purpose.Retraining', 'Purpose.Business', 'Purpose.Other',\n",
       "       'SavingsAccountBonds.lt.100', 'SavingsAccountBonds.100.to.500',\n",
       "       'SavingsAccountBonds.500.to.1000', 'SavingsAccountBonds.gt.1000',\n",
       "       'SavingsAccountBonds.Unknown', 'EmploymentDuration.lt.1',\n",
       "       'EmploymentDuration.1.to.4', 'EmploymentDuration.4.to.7',\n",
       "       'EmploymentDuration.gt.7', 'EmploymentDuration.Unemployed',\n",
       "       'Personal.Male.Divorced.Seperated', 'Personal.Female.NotSingle',\n",
       "       'Personal.Male.Single', 'Personal.Male.Married.Widowed',\n",
       "       'Personal.Female.Single', 'OtherDebtorsGuarantors.None',\n",
       "       'OtherDebtorsGuarantors.CoApplicant',\n",
       "       'OtherDebtorsGuarantors.Guarantor', 'Property.RealEstate',\n",
       "       'Property.Insurance', 'Property.CarOther', 'Property.Unknown',\n",
       "       'OtherInstallmentPlans.Bank', 'OtherInstallmentPlans.Stores',\n",
       "       'OtherInstallmentPlans.None', 'Housing.Rent', 'Housing.Own',\n",
       "       'Housing.ForFree', 'Job.UnemployedUnskilled', 'Job.UnskilledResident',\n",
       "       'Job.SkilledEmployee', 'Job.Management.SelfEmp.HighlyQualified'],\n",
       "      dtype='object')"
      ]
     },
     "execution_count": 22,
     "metadata": {},
     "output_type": "execute_result"
    }
   ],
   "source": [
    "df.columns"
   ]
  },
  {
   "cell_type": "code",
   "execution_count": 23,
   "metadata": {},
   "outputs": [
    {
     "ename": "AttributeError",
     "evalue": "module 'pdpbox' has no attribute 'utils'",
     "output_type": "error",
     "traceback": [
      "\u001b[1;31m---------------------------------------------------------------------------\u001b[0m",
      "\u001b[1;31mAttributeError\u001b[0m                            Traceback (most recent call last)",
      "Cell \u001b[1;32mIn[23], line 1\u001b[0m\n\u001b[1;32m----> 1\u001b[0m \u001b[43mpdp\u001b[49m\u001b[38;5;241;43m.\u001b[39;49m\u001b[43mutils\u001b[49m\u001b[38;5;241m.\u001b[39m_check_model\n",
      "\u001b[1;31mAttributeError\u001b[0m: module 'pdpbox' has no attribute 'utils'"
     ]
    }
   ],
   "source": [
    "pdp.utils._check_model"
   ]
  },
  {
   "cell_type": "code",
   "execution_count": 24,
   "metadata": {},
   "outputs": [
    {
     "ename": "AttributeError",
     "evalue": "module 'pdpbox' has no attribute 'pdp_isolate'",
     "output_type": "error",
     "traceback": [
      "\u001b[1;31m---------------------------------------------------------------------------\u001b[0m",
      "\u001b[1;31mAttributeError\u001b[0m                            Traceback (most recent call last)",
      "Cell \u001b[1;32mIn[24], line 1\u001b[0m\n\u001b[1;32m----> 1\u001b[0m pdp_data \u001b[38;5;241m=\u001b[39m \u001b[43mpdp\u001b[49m\u001b[38;5;241;43m.\u001b[39;49m\u001b[43mpdp_isolate\u001b[49m(model\u001b[38;5;241m=\u001b[39mmodel, dataset\u001b[38;5;241m=\u001b[39mdf, model_features\u001b[38;5;241m=\u001b[39mX\u001b[38;5;241m.\u001b[39mcolumns, feature\u001b[38;5;241m=\u001b[39m\u001b[38;5;124m'\u001b[39m\u001b[38;5;124mDuration\u001b[39m\u001b[38;5;124m'\u001b[39m)\n\u001b[0;32m      3\u001b[0m \u001b[38;5;66;03m# Plot the PDP\u001b[39;00m\n\u001b[0;32m      4\u001b[0m pdp\u001b[38;5;241m.\u001b[39mpdp_plot(pdp_data, \u001b[38;5;124m'\u001b[39m\u001b[38;5;124mfeature_name\u001b[39m\u001b[38;5;124m'\u001b[39m)\n",
      "\u001b[1;31mAttributeError\u001b[0m: module 'pdpbox' has no attribute 'pdp_isolate'"
     ]
    }
   ],
   "source": [
    "pdp_data = pdp.pdp_isolate(model=model, dataset=df, model_features=X.columns, feature='Duration')\n",
    "\n",
    "# Plot the PDP\n",
    "pdp.pdp_plot(pdp_data, 'feature_name')\n",
    "plt.show()"
   ]
  },
  {
   "cell_type": "markdown",
   "metadata": {},
   "source": [
    "## (Optional) Advanced Boosting-Based Algorithms"
   ]
  },
  {
   "cell_type": "markdown",
   "metadata": {},
   "source": [
    "As explained in the video lectures, the next generation of algorithms after Random Forests (that use Bagging, a.k.a. Bootstrap Aggregation) were developed using Boosting, and the first one of these were Gradient Boosted Machines, which are implemented in scikit-learn (http://scikit-learn.org/stable/modules/ensemble.html#gradient-tree-boosting)."
   ]
  },
  {
   "cell_type": "markdown",
   "metadata": {},
   "source": [
    "Still, in recent years, a number of variations on GBMs have been developed by different research amd industry groups, all of them bringing improvements, both in speed, accuracy and functionality to the original Gradient Boosting algorithms.\n",
    "\n",
    "In no order of preference, these are:\n",
    "1. **XGBoost**: https://xgboost.readthedocs.io/en/latest/\n",
    "2. **CatBoost**: https://tech.yandex.com/catboost/\n",
    "3. **LightGBM**: https://lightgbm.readthedocs.io/en/latest/"
   ]
  },
  {
   "cell_type": "markdown",
   "metadata": {},
   "source": [
    "If you're using the Anaconda distribution, these are all very easy to install:"
   ]
  },
  {
   "cell_type": "code",
   "execution_count": null,
   "metadata": {},
   "outputs": [],
   "source": [
    "! conda install -c anaconda py-xgboost"
   ]
  },
  {
   "cell_type": "code",
   "execution_count": null,
   "metadata": {},
   "outputs": [],
   "source": [
    "! conda install -c conda-forge catboost"
   ]
  },
  {
   "cell_type": "code",
   "execution_count": null,
   "metadata": {},
   "outputs": [],
   "source": [
    "! conda install -c conda-forge lightgbm"
   ]
  },
  {
   "cell_type": "markdown",
   "metadata": {},
   "source": [
    "Your task in this optional section of the mini project is to read the documentation of these three libraries, and apply all of them to the \"German Credit\" dataset, just like you did in the case of Decision Trees and Random Forests."
   ]
  },
  {
   "cell_type": "markdown",
   "metadata": {},
   "source": [
    "The final deliverable of this section should be a table (can be a pandas DataFrame) which shows the accuracy of all the five algorthms taught in this mini project in one place."
   ]
  },
  {
   "cell_type": "markdown",
   "metadata": {},
   "source": [
    "Happy modeling! :)"
   ]
  },
  {
   "cell_type": "code",
   "execution_count": 25,
   "metadata": {},
   "outputs": [],
   "source": [
    "revised = y_train == \"Good\""
   ]
  },
  {
   "cell_type": "code",
   "execution_count": 26,
   "metadata": {},
   "outputs": [
    {
     "data": {
      "text/plain": [
       "541    True\n",
       "440    True\n",
       "482    True\n",
       "422    True\n",
       "778    True\n",
       "Name: Class, dtype: bool"
      ]
     },
     "execution_count": 26,
     "metadata": {},
     "output_type": "execute_result"
    }
   ],
   "source": [
    "revised.head()"
   ]
  },
  {
   "cell_type": "code",
   "execution_count": 27,
   "metadata": {},
   "outputs": [
    {
     "data": {
      "text/plain": [
       "array([0.71754086, 0.26209083, 0.5204474 , 0.6246851 , 0.8848543 ,\n",
       "       0.4539635 , 0.7762638 , 0.6246851 , 0.7911003 , 0.8875656 ,\n",
       "       0.7762638 , 0.1505759 , 0.8875656 , 0.1505759 , 0.2619342 ,\n",
       "       0.71754086, 0.672977  , 0.9452666 , 0.7715591 , 0.71754086,\n",
       "       0.56225234, 0.71754086, 0.8848543 , 0.9452666 , 0.8848543 ,\n",
       "       0.4539635 , 0.2619342 , 0.4252158 , 0.8215403 , 0.8875656 ,\n",
       "       0.7715591 , 0.6246851 , 0.8848543 , 0.5906554 , 0.8875656 ,\n",
       "       0.6246851 , 0.2619342 , 0.7911003 , 0.9452666 , 0.41865763,\n",
       "       0.4252158 , 0.9452666 , 0.7762638 , 0.8848543 , 0.7715591 ,\n",
       "       0.71754086, 0.71754086, 0.7762638 , 0.7762638 , 0.50350666,\n",
       "       0.4539635 , 0.9452666 , 0.4539635 , 0.41865763, 0.88359326,\n",
       "       0.7762638 , 0.76430804, 0.4155719 , 0.4539635 , 0.8875656 ,\n",
       "       0.50350666, 0.2619342 , 0.4539635 , 0.8875656 , 0.7762638 ,\n",
       "       0.7762638 , 0.8875656 , 0.4539635 , 0.8875656 , 0.7762638 ,\n",
       "       0.5971403 , 0.7762638 , 0.88359326, 0.7762638 , 0.88359326,\n",
       "       0.4539635 , 0.26209083, 0.7762638 , 0.88359326, 0.4539635 ,\n",
       "       0.8875656 , 0.8875656 , 0.8875656 , 0.5971403 , 0.8848543 ,\n",
       "       0.4539635 , 0.1505759 , 0.4252158 , 0.8848543 , 0.8875656 ,\n",
       "       0.7911003 , 0.8875656 , 0.1505759 , 0.71754086, 0.9452666 ,\n",
       "       0.50350666, 0.8848543 , 0.26209083, 0.4252158 , 0.5906554 ,\n",
       "       0.9452666 , 0.7762638 , 0.7762638 , 0.8848543 , 0.8875656 ,\n",
       "       0.7715591 , 0.7762638 , 0.6246851 , 0.7911003 , 0.5204474 ,\n",
       "       0.1505759 , 0.76430804, 0.7715591 , 0.8875656 , 0.7715591 ,\n",
       "       0.88359326, 0.76430804, 0.8875656 , 0.8875656 , 0.8858459 ,\n",
       "       0.76430804, 0.6246851 , 0.7715591 , 0.71754086, 0.6246851 ,\n",
       "       0.7715591 , 0.2619342 , 0.9452666 , 0.9452666 , 0.9452666 ,\n",
       "       0.62984943, 0.4539635 , 0.7762638 , 0.8875656 , 0.26209083,\n",
       "       0.8875656 , 0.4539635 , 0.88359326, 0.71754086, 0.88359326,\n",
       "       0.61809814, 0.7911003 , 0.6246851 , 0.8875656 , 0.41865763,\n",
       "       0.4539635 , 0.7762638 , 0.8875656 , 0.35134637, 0.4539635 ,\n",
       "       0.8848543 , 0.5971403 , 0.7762638 , 0.88359326, 0.8875656 ,\n",
       "       0.6246851 , 0.4155719 , 0.9452666 , 0.7762638 , 0.7762638 ,\n",
       "       0.5971403 , 0.7911003 , 0.4539635 , 0.1505759 , 0.50350666,\n",
       "       0.76430804, 0.8875656 , 0.5204474 , 0.5971403 , 0.7253117 ,\n",
       "       0.7762638 , 0.88359326, 0.7762638 , 0.88359326, 0.8875656 ,\n",
       "       0.50350666, 0.7762638 , 0.9452666 , 0.7715591 , 0.4252158 ,\n",
       "       0.76430804, 0.775429  , 0.7911003 , 0.8848543 , 0.7762638 ,\n",
       "       0.7762638 , 0.5971403 , 0.78007656, 0.8875656 , 0.8875656 ,\n",
       "       0.8875656 , 0.2619342 , 0.5971403 , 0.7762638 , 0.7762638 ,\n",
       "       0.8875656 , 0.4252158 , 0.71754086, 0.71754086, 0.8875656 ,\n",
       "       0.1505759 , 0.7715591 , 0.7911003 , 0.8875656 , 0.67886674,\n",
       "       0.26209083, 0.8875656 , 0.71754086, 0.71754086, 0.8848543 ,\n",
       "       0.8875656 , 0.4252158 , 0.26209083, 0.78007656, 0.5204474 ,\n",
       "       0.8848543 , 0.88359326, 0.50350666, 0.4252158 , 0.7762638 ,\n",
       "       0.8875656 , 0.9452666 , 0.7762638 , 0.8875656 , 0.4539635 ,\n",
       "       0.9452666 , 0.9452666 , 0.50350666, 0.8875656 , 0.26209083,\n",
       "       0.5971403 , 0.8875656 , 0.5971403 , 0.8848543 , 0.8858459 ,\n",
       "       0.71754086, 0.7911003 , 0.8875656 , 0.7762638 , 0.8215403 ,\n",
       "       0.35134637, 0.9452666 , 0.8875656 , 0.5971403 , 0.7911003 ,\n",
       "       0.7762638 , 0.78007656, 0.7762638 , 0.4539635 , 0.1505759 ,\n",
       "       0.62984943, 0.8875656 , 0.41865763, 0.8848543 , 0.4155719 ,\n",
       "       0.4539635 , 0.9452666 , 0.8875656 , 0.4539635 , 0.7911003 ,\n",
       "       0.71754086, 0.4539635 , 0.7762638 , 0.8858459 , 0.8875656 ,\n",
       "       0.78007656, 0.8875656 , 0.4539635 , 0.4539635 , 0.6246851 ,\n",
       "       0.8848543 , 0.41865763, 0.76430804, 0.76430804, 0.67886674,\n",
       "       0.5906554 , 0.8848543 , 0.8875656 , 0.8875656 , 0.5971403 ,\n",
       "       0.4539635 , 0.672977  , 0.71754086, 0.78007656, 0.8875656 ,\n",
       "       0.7911003 , 0.4539635 , 0.7762638 , 0.4539635 , 0.88359326,\n",
       "       0.4539635 , 0.71754086, 0.35134637, 0.78007656, 0.5971403 ,\n",
       "       0.78007656, 0.7762638 , 0.67886674, 0.2619342 , 0.71754086],\n",
       "      dtype=float32)"
      ]
     },
     "execution_count": 27,
     "metadata": {},
     "output_type": "execute_result"
    }
   ],
   "source": [
    "import xgboost as xgb\n",
    "\n",
    "dtrain = xgb.DMatrix(x_train, label=revised)\n",
    "dtest = xgb.DMatrix(x_test)\n",
    "\n",
    "param = {'max_depth': 3, 'eta': 1, 'objective': 'binary:logistic'}\n",
    "num_round = 2\n",
    "\n",
    "bst = xgb.train(param, dtrain, num_round)\n",
    "bst.predict(dtest)"
   ]
  },
  {
   "cell_type": "code",
   "execution_count": 28,
   "metadata": {},
   "outputs": [],
   "source": [
    "converted = y_test == \"Good\"\n",
    "\n",
    "y_pred_prob = bst.predict(dtest)\n",
    "\n",
    "y_pred = np.where(y_pred_prob >= 0.5, 1, 0)\n",
    "accuracy = accuracy_score(converted, y_pred)"
   ]
  },
  {
   "cell_type": "code",
   "execution_count": 29,
   "metadata": {},
   "outputs": [
    {
     "data": {
      "text/plain": [
       "0.7333333333333333"
      ]
     },
     "execution_count": 29,
     "metadata": {},
     "output_type": "execute_result"
    }
   ],
   "source": [
    "#Accuracy of the XGBoost model\n",
    "accuracy"
   ]
  },
  {
   "cell_type": "code",
   "execution_count": 30,
   "metadata": {},
   "outputs": [
    {
     "data": {
      "text/plain": [
       "541    True\n",
       "440    True\n",
       "482    True\n",
       "422    True\n",
       "778    True\n",
       "Name: Class, dtype: bool"
      ]
     },
     "execution_count": 30,
     "metadata": {},
     "output_type": "execute_result"
    }
   ],
   "source": [
    "revised.head()"
   ]
  },
  {
   "cell_type": "code",
   "execution_count": 31,
   "metadata": {},
   "outputs": [
    {
     "data": {
      "text/plain": [
       "521    False\n",
       "737     True\n",
       "740     True\n",
       "660     True\n",
       "411     True\n",
       "Name: Class, dtype: bool"
      ]
     },
     "execution_count": 31,
     "metadata": {},
     "output_type": "execute_result"
    }
   ],
   "source": [
    "converted.head()"
   ]
  },
  {
   "cell_type": "code",
   "execution_count": 32,
   "metadata": {},
   "outputs": [
    {
     "name": "stdout",
     "output_type": "stream",
     "text": [
      "0:\tlearn: 0.6563210\ttotal: 153ms\tremaining: 15.1s\n",
      "1:\tlearn: 0.6181812\ttotal: 159ms\tremaining: 7.78s\n",
      "2:\tlearn: 0.5955881\ttotal: 165ms\tremaining: 5.35s\n",
      "3:\tlearn: 0.5751093\ttotal: 172ms\tremaining: 4.13s\n",
      "4:\tlearn: 0.5596531\ttotal: 177ms\tremaining: 3.36s\n",
      "5:\tlearn: 0.5400403\ttotal: 183ms\tremaining: 2.86s\n",
      "6:\tlearn: 0.5228408\ttotal: 188ms\tremaining: 2.5s\n",
      "7:\tlearn: 0.5096674\ttotal: 193ms\tremaining: 2.22s\n",
      "8:\tlearn: 0.4977411\ttotal: 199ms\tremaining: 2.01s\n",
      "9:\tlearn: 0.4904514\ttotal: 204ms\tremaining: 1.84s\n",
      "10:\tlearn: 0.4775875\ttotal: 209ms\tremaining: 1.69s\n",
      "11:\tlearn: 0.4666849\ttotal: 215ms\tremaining: 1.57s\n",
      "12:\tlearn: 0.4559010\ttotal: 220ms\tremaining: 1.47s\n",
      "13:\tlearn: 0.4505477\ttotal: 226ms\tremaining: 1.39s\n",
      "14:\tlearn: 0.4427529\ttotal: 233ms\tremaining: 1.32s\n",
      "15:\tlearn: 0.4368186\ttotal: 238ms\tremaining: 1.25s\n",
      "16:\tlearn: 0.4302361\ttotal: 244ms\tremaining: 1.19s\n",
      "17:\tlearn: 0.4244135\ttotal: 250ms\tremaining: 1.14s\n",
      "18:\tlearn: 0.4173090\ttotal: 253ms\tremaining: 1.08s\n",
      "19:\tlearn: 0.4116198\ttotal: 259ms\tremaining: 1.03s\n",
      "20:\tlearn: 0.4056267\ttotal: 265ms\tremaining: 996ms\n",
      "21:\tlearn: 0.4018217\ttotal: 270ms\tremaining: 956ms\n",
      "22:\tlearn: 0.3970544\ttotal: 277ms\tremaining: 926ms\n",
      "23:\tlearn: 0.3907397\ttotal: 283ms\tremaining: 895ms\n",
      "24:\tlearn: 0.3853660\ttotal: 288ms\tremaining: 865ms\n",
      "25:\tlearn: 0.3811150\ttotal: 294ms\tremaining: 838ms\n",
      "26:\tlearn: 0.3773153\ttotal: 300ms\tremaining: 812ms\n",
      "27:\tlearn: 0.3736271\ttotal: 307ms\tremaining: 788ms\n",
      "28:\tlearn: 0.3684148\ttotal: 313ms\tremaining: 766ms\n",
      "29:\tlearn: 0.3643333\ttotal: 319ms\tremaining: 743ms\n",
      "30:\tlearn: 0.3608187\ttotal: 324ms\tremaining: 722ms\n",
      "31:\tlearn: 0.3576049\ttotal: 331ms\tremaining: 703ms\n",
      "32:\tlearn: 0.3513275\ttotal: 337ms\tremaining: 684ms\n",
      "33:\tlearn: 0.3481083\ttotal: 343ms\tremaining: 666ms\n",
      "34:\tlearn: 0.3443937\ttotal: 353ms\tremaining: 655ms\n",
      "35:\tlearn: 0.3395711\ttotal: 360ms\tremaining: 639ms\n",
      "36:\tlearn: 0.3340873\ttotal: 365ms\tremaining: 622ms\n",
      "37:\tlearn: 0.3305301\ttotal: 370ms\tremaining: 604ms\n",
      "38:\tlearn: 0.3265972\ttotal: 377ms\tremaining: 589ms\n",
      "39:\tlearn: 0.3216793\ttotal: 382ms\tremaining: 572ms\n",
      "40:\tlearn: 0.3176241\ttotal: 399ms\tremaining: 575ms\n",
      "41:\tlearn: 0.3121854\ttotal: 406ms\tremaining: 561ms\n",
      "42:\tlearn: 0.3090613\ttotal: 412ms\tremaining: 547ms\n",
      "43:\tlearn: 0.3065404\ttotal: 420ms\tremaining: 535ms\n",
      "44:\tlearn: 0.3024040\ttotal: 428ms\tremaining: 523ms\n",
      "45:\tlearn: 0.2988772\ttotal: 435ms\tremaining: 511ms\n",
      "46:\tlearn: 0.2954170\ttotal: 443ms\tremaining: 500ms\n",
      "47:\tlearn: 0.2922375\ttotal: 450ms\tremaining: 487ms\n",
      "48:\tlearn: 0.2877149\ttotal: 457ms\tremaining: 475ms\n",
      "49:\tlearn: 0.2831282\ttotal: 464ms\tremaining: 464ms\n",
      "50:\tlearn: 0.2802705\ttotal: 471ms\tremaining: 452ms\n",
      "51:\tlearn: 0.2758556\ttotal: 478ms\tremaining: 442ms\n",
      "52:\tlearn: 0.2729825\ttotal: 485ms\tremaining: 430ms\n",
      "53:\tlearn: 0.2688923\ttotal: 492ms\tremaining: 419ms\n",
      "54:\tlearn: 0.2653053\ttotal: 498ms\tremaining: 408ms\n",
      "55:\tlearn: 0.2624335\ttotal: 505ms\tremaining: 397ms\n",
      "56:\tlearn: 0.2596673\ttotal: 510ms\tremaining: 385ms\n",
      "57:\tlearn: 0.2579277\ttotal: 518ms\tremaining: 375ms\n",
      "58:\tlearn: 0.2553322\ttotal: 525ms\tremaining: 365ms\n",
      "59:\tlearn: 0.2536017\ttotal: 532ms\tremaining: 354ms\n",
      "60:\tlearn: 0.2515862\ttotal: 539ms\tremaining: 345ms\n",
      "61:\tlearn: 0.2491864\ttotal: 546ms\tremaining: 335ms\n",
      "62:\tlearn: 0.2464476\ttotal: 551ms\tremaining: 324ms\n",
      "63:\tlearn: 0.2422770\ttotal: 557ms\tremaining: 313ms\n",
      "64:\tlearn: 0.2404575\ttotal: 562ms\tremaining: 302ms\n",
      "65:\tlearn: 0.2388508\ttotal: 567ms\tremaining: 292ms\n",
      "66:\tlearn: 0.2365754\ttotal: 573ms\tremaining: 282ms\n",
      "67:\tlearn: 0.2342720\ttotal: 579ms\tremaining: 272ms\n",
      "68:\tlearn: 0.2321533\ttotal: 585ms\tremaining: 263ms\n",
      "69:\tlearn: 0.2292060\ttotal: 590ms\tremaining: 253ms\n",
      "70:\tlearn: 0.2262552\ttotal: 597ms\tremaining: 244ms\n",
      "71:\tlearn: 0.2243343\ttotal: 604ms\tremaining: 235ms\n",
      "72:\tlearn: 0.2229483\ttotal: 610ms\tremaining: 226ms\n",
      "73:\tlearn: 0.2211457\ttotal: 617ms\tremaining: 217ms\n",
      "74:\tlearn: 0.2192926\ttotal: 623ms\tremaining: 208ms\n",
      "75:\tlearn: 0.2172105\ttotal: 630ms\tremaining: 199ms\n",
      "76:\tlearn: 0.2151312\ttotal: 637ms\tremaining: 190ms\n",
      "77:\tlearn: 0.2133161\ttotal: 644ms\tremaining: 182ms\n",
      "78:\tlearn: 0.2120146\ttotal: 651ms\tremaining: 173ms\n",
      "79:\tlearn: 0.2093141\ttotal: 656ms\tremaining: 164ms\n",
      "80:\tlearn: 0.2071145\ttotal: 663ms\tremaining: 156ms\n",
      "81:\tlearn: 0.2043786\ttotal: 669ms\tremaining: 147ms\n",
      "82:\tlearn: 0.2021996\ttotal: 673ms\tremaining: 138ms\n",
      "83:\tlearn: 0.1984294\ttotal: 681ms\tremaining: 130ms\n",
      "84:\tlearn: 0.1975039\ttotal: 686ms\tremaining: 121ms\n",
      "85:\tlearn: 0.1948575\ttotal: 693ms\tremaining: 113ms\n",
      "86:\tlearn: 0.1925507\ttotal: 701ms\tremaining: 105ms\n",
      "87:\tlearn: 0.1896833\ttotal: 708ms\tremaining: 96.5ms\n",
      "88:\tlearn: 0.1879068\ttotal: 715ms\tremaining: 88.3ms\n",
      "89:\tlearn: 0.1868420\ttotal: 722ms\tremaining: 80.2ms\n",
      "90:\tlearn: 0.1851695\ttotal: 730ms\tremaining: 72.2ms\n",
      "91:\tlearn: 0.1816817\ttotal: 736ms\tremaining: 64ms\n",
      "92:\tlearn: 0.1802194\ttotal: 743ms\tremaining: 55.9ms\n",
      "93:\tlearn: 0.1784957\ttotal: 750ms\tremaining: 47.9ms\n",
      "94:\tlearn: 0.1761012\ttotal: 755ms\tremaining: 39.7ms\n",
      "95:\tlearn: 0.1752555\ttotal: 761ms\tremaining: 31.7ms\n",
      "96:\tlearn: 0.1733841\ttotal: 768ms\tremaining: 23.8ms\n",
      "97:\tlearn: 0.1717773\ttotal: 775ms\tremaining: 15.8ms\n",
      "98:\tlearn: 0.1705657\ttotal: 784ms\tremaining: 7.92ms\n",
      "99:\tlearn: 0.1688491\ttotal: 792ms\tremaining: 0us\n"
     ]
    }
   ],
   "source": [
    "import catboost as cb\n",
    "model = cb.CatBoostClassifier(iterations=100, learning_rate=0.1, depth=6)\n",
    "model.fit(x_train, revised)\n",
    "y_pred = model.predict(x_test)\n",
    "\n",
    "dtypedf = pd.Series(y_pred)\n",
    "dtypedf = dtypedf.astype(bool)\n",
    "\n",
    "accuracy = accuracy_score(converted, dtypedf)"
   ]
  },
  {
   "cell_type": "code",
   "execution_count": 33,
   "metadata": {},
   "outputs": [
    {
     "data": {
      "text/plain": [
       "0.6966666666666667"
      ]
     },
     "execution_count": 33,
     "metadata": {},
     "output_type": "execute_result"
    }
   ],
   "source": [
    "accuracy"
   ]
  },
  {
   "cell_type": "code",
   "execution_count": 34,
   "metadata": {},
   "outputs": [],
   "source": [
    "import lightgbm as lgb\n",
    "model = lgb.LGBMClassifier(num_leaves=31, learning_rate=0.1, n_estimators=100)\n",
    "model.fit(x_train, revised)\n",
    "y_pred = model.predict(x_test)\n",
    "accuracy = accuracy_score(converted, y_pred)\n"
   ]
  },
  {
   "cell_type": "code",
   "execution_count": 35,
   "metadata": {},
   "outputs": [
    {
     "data": {
      "text/plain": [
       "0.7966666666666666"
      ]
     },
     "execution_count": 35,
     "metadata": {},
     "output_type": "execute_result"
    }
   ],
   "source": [
    "accuracy"
   ]
  },
  {
   "cell_type": "code",
   "execution_count": 147,
   "metadata": {},
   "outputs": [],
   "source": [
    "# Review"
   ]
  },
  {
   "cell_type": "code",
   "execution_count": 148,
   "metadata": {},
   "outputs": [],
   "source": [
    "# The accuracy of the best Decision Tree\n",
    "# 0.712\n",
    "\n",
    "# The accuracy of the Random Forrest Classifier\n",
    "# 0.7666666666666667\n",
    "\n",
    "# The accuracy of the XGBoost model\n",
    "# 0.7333333333333333\n",
    "\n",
    "# The accuracy of the Catboost model\n",
    "# 0.6966666666666667\n",
    "\n",
    "# The accuracy of the lightgbm model\n",
    "# 0.7966666666666666\n",
    "\n",
    "\n",
    "\n",
    "# The best model was the LightGBM model."
   ]
  }
 ],
 "metadata": {
  "kernelspec": {
   "display_name": "Python 3 (ipykernel)",
   "language": "python",
   "name": "python3"
  },
  "language_info": {
   "codemirror_mode": {
    "name": "ipython",
    "version": 3
   },
   "file_extension": ".py",
   "mimetype": "text/x-python",
   "name": "python",
   "nbconvert_exporter": "python",
   "pygments_lexer": "ipython3",
   "version": "3.9.13"
  }
 },
 "nbformat": 4,
 "nbformat_minor": 2
}
